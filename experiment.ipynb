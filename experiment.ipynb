{
 "cells": [
  {
   "cell_type": "code",
   "execution_count": 86,
   "metadata": {},
   "outputs": [],
   "source": [
    "\n",
    "import os\n",
    "from langchain_ai21 import AI21LLM\n",
    "from langchain_groq import ChatGroq\n",
    "from langchain_core.prompts import ChatPromptTemplate\n",
    "from langchain_community.vectorstores import FAISS\n",
    "from langchain_community.document_loaders import PyPDFLoader\n",
    "from langchain.text_splitter import RecursiveCharacterTextSplitter\n",
    "from langchain_ai21.embeddings import AI21Embeddings\n",
    "from langchain.chains import create_retrieval_chain\n",
    "from langchain.chains.combine_documents import create_stuff_documents_chain\n",
    "from dotenv import load_dotenv"
   ]
  },
  {
   "cell_type": "code",
   "execution_count": 42,
   "metadata": {},
   "outputs": [
    {
     "name": "stdout",
     "output_type": "stream",
     "text": [
      "Requirement already satisfied: faiss-cpu in c:\\users\\share\\appdata\\local\\programs\\python\\python312\\lib\\site-packages (1.8.0)\n",
      "Requirement already satisfied: numpy in c:\\users\\share\\appdata\\roaming\\python\\python312\\site-packages (from faiss-cpu) (1.26.1)\n"
     ]
    }
   ],
   "source": [
    "!pip install faiss-cpu"
   ]
  },
  {
   "cell_type": "code",
   "execution_count": 45,
   "metadata": {},
   "outputs": [],
   "source": [
    "load_dotenv()\n",
    "os.environ['AI21_API_KEY'] = os.getenv('AI21_API_KEY')\n",
    "groq_api = os.environ.get('GROQ_API')\n"
   ]
  },
  {
   "cell_type": "code",
   "execution_count": 154,
   "metadata": {},
   "outputs": [],
   "source": [
    "loader=PyPDFLoader(\"Scaler_data.pdf\")\n",
    "docs=loader.load()"
   ]
  },
  {
   "cell_type": "code",
   "execution_count": 155,
   "metadata": {},
   "outputs": [],
   "source": [
    "text_splitter=RecursiveCharacterTextSplitter(chunk_size=1000,chunk_overlap=300)\n",
    "docs_1=text_splitter.split_documents(docs)"
   ]
  },
  {
   "cell_type": "code",
   "execution_count": 156,
   "metadata": {},
   "outputs": [],
   "source": [
    "db=FAISS.from_documents(docs_1,AI21Embeddings())"
   ]
  },
  {
   "cell_type": "code",
   "execution_count": 157,
   "metadata": {},
   "outputs": [
    {
     "name": "stdout",
     "output_type": "stream",
     "text": [
      "[Document(page_content='go\\n \\nabove\\n \\nand\\n \\nbeyond\\n \\nto\\n \\nensure\\n \\nyour\\n \\nSkills\\n \\nachieve\\n \\nthe\\n \\nrecognition\\n \\nthey\\n \\ndeserve.\\nDegree\\n \\nthat\\n \\nPrioritises\\n \\nSkills:\\n \\nNeovarsity\\n \\nis\\n \\ntailored\\n \\nto\\n \\nhone\\n \\nyour\\n \\nskill\\n \\nset\\n \\nby\\n \\nharnessing\\n \\nthe\\n \\nScaler\\n \\ncurriculum\\n \\nthat\\n \\nstands\\n \\nas\\n \\na\\n \\nbenchmark\\n \\nin\\n \\nthe\\n \\nindustry.\\nDesigned\\n \\n&\\n \\nTaught\\n \\nby\\n \\nMAANG\\n \\nExperts\\n \\n:\\n \\nLearn\\n \\nfrom\\n \\nindustry-leading\\n \\nMAANG\\n \\n(Microsoft,\\n \\nAmazon,\\n \\nApple,\\n \\nNetflix,\\n \\nGoogle)\\n \\nexperts\\n \\nwho\\n \\nbring\\n \\ntheir\\n \\nextensive\\n \\nknowledge\\n \\nand\\n \\nexperience\\n \\nto\\n \\nthe\\n \\nNeovarsity\\n \\nprogram.', metadata={'source': 'Scaler_data.pdf', 'page': 2}), Document(page_content='The\\n \\nprogramme\\n \\nis\\n \\nopen\\n \\nfor\\n \\ndegree\\n \\nholders\\n \\nwith\\n \\nundergraduate\\n \\ndegrees\\n \\nfrom\\n \\nany\\n \\nfield.\\nFor\\n \\nlearners\\n \\nholding\\n \\na\\n \\ndiploma-\\n \\neligibility\\n \\nwill\\n \\nvary\\n \\nfrom\\n \\ncase\\n \\nto\\n \\ncase.\\n \\nTo\\n \\nknow\\n \\nmore\\n \\nabout\\n \\neligibility\\n \\ncriteria,\\n \\nkindly\\n \\nreach\\n \\nout\\n \\nto\\n \\nour\\n \\nadmission\\n \\ncounsellors.\\nWhat\\n \\nis\\n \\nthe\\n \\nduration\\n \\nof\\n \\nthe\\n \\nprogram?\\nThe\\n \\ncourse\\n \\nspans\\n \\n18\\n \\nmonths,\\n \\nwhich\\n \\nhas\\n \\nScaler\\n \\nProgram\\n \\nas\\n \\nfirst\\n \\npart\\n \\nand\\n \\nthen\\n \\nhas\\n \\nan\\n \\nextension\\n \\nof\\n \\nNeovarsity\\n \\nwith\\n \\nelectives.\\nIs\\n \\nthe\\n \\ncurriculum\\n \\ntaught\\n \\nto\\n \\nNeovarsity\\n \\nlearners\\n \\ndifferent?\\nNeovarsity\\n \\ncurriculum\\n \\nis\\n \\nbuilt\\n \\nupon\\n \\nyour\\n \\nScaler\\n \\nprogramme.\\n \\nThe\\n \\ncurriculum\\n \\nfor\\n \\nScaler\\n \\nProgramme\\n \\nduration\\n \\nwill\\n \\nbe\\n \\nthe\\n \\nsame.\\n \\nThen,\\n \\nNeovarsity\\n \\nenhances\\n \\nthe\\n \\ncurriculum\\n \\nwith\\n \\nunique\\n \\ntopics\\n \\nyou\\n \\nchose.\\n \\nYou\\n \\nwill\\n \\ndedicate\\n \\nthe\\n \\nrest\\n \\nof\\n \\nthe\\n \\ntime\\n \\nto\\n \\nyour\\n \\nchosen\\n \\nelectives,\\n \\nincluding\\n \\nfoundational\\n \\nMachine\\n \\nLearning\\n \\nand\\n \\nData', metadata={'source': 'Scaler_data.pdf', 'page': 12}), Document(page_content='first\\n \\ninstitute\\n \\nof\\n \\nits\\n \\nkind\\n \\nthat\\n \\npreserves\\n \\nand\\n \\nupholds\\n \\nthe\\n \\nSkills-with-Degree\\n \\nculture.\\n \\nIt\\n \\ncan\\n \\nbe\\n \\nyour\\n \\nbreakthrough\\n \\nfrom\\n \\nthe\\n \\nrat-race\\n \\nculture\\n \\nof\\n \\nconventional\\n \\neducation\\n \\nand\\n \\nhelp\\n \\nyou\\n \\nscale\\n \\nahead\\n \\nin\\n \\nthe\\n \\ntech\\n \\nindustry.\\n \\nThe\\n \\ncourse\\n \\ncovers\\n \\nfoundational\\n \\nsubjects\\n \\nand\\n \\nreal-world\\n \\nskills\\n \\nin\\n \\nsuch\\n \\na\\n \\nway\\n \\nthat\\n \\nyou\\n \\nare\\n \\nready\\n \\nfor\\n \\nyour\\n \\nnext\\n \\nstep,\\n \\nbe\\n \\nit\\n \\ntop-tech\\n \\ncompanies\\n \\nor\\n \\nresearch.\\n \\nWe\\n \\naim\\n \\nto\\n \\nrevolutionise\\n \\nthe\\n \\ned-tech\\n \\nspace\\naltogether\\n \\nso\\n \\nthat\\n \\nyou\\n \\ncan\\n \\n#CreateImpact\\n \\nin\\n \\nyour\\n \\ncareer\\n \\nand\\n \\nthe\\n \\ntech\\n \\nworld.\\nA\\n \\nGlobally\\n \\nRecognised\\n \\nand\\n \\nECTS\\n \\nAccredited\\n \\nMaster’s\\n \\nin\\n \\nComputer\\n \\nScience.\\nScaler\\n \\nNeovarsity\\n \\n—\\n \\nan\\n \\nextension\\n \\nto\\n \\nyour\\n \\ncurrent\\n \\nScaler\\n \\nprogram;\\n \\nthat\\n \\npreserves\\n \\nand\\n \\nupholds\\n \\nthe\\n \\nSkills-with-Degree\\n \\nculture.\\n \\nThis\\n \\ndegree\\n \\nis\\n \\nendorsed\\n \\nby\\n \\nthe\\n \\nEuropean\\n \\nCredit\\n \\nTransfer\\n \\nand\\n \\nAccumulation\\n \\nSystem', metadata={'source': 'Scaler_data.pdf', 'page': 2}), Document(page_content=\"Seamless\\n \\nIntegration\\n \\n:\\n \\nAcquire\\n \\na\\n \\nprestigious\\n \\nMaster's\\n \\ndegree\\n \\nwithout\\n \\nadditional\\n \\neffort,\\n \\nas\\n \\nthe\\n \\nNeovarsity\\n \\nprogramme\\n \\nseamlessly\\n \\nintegrates\\n \\nwith\\n \\nyour\\n \\nregular\\n \\ncourse\\n \\ncurriculum\\n \\nand\\n \\nworkload.\\nGlobally\\n \\nrecognised\\n \\ndegree\\n \\n:\\n \\nStand\\n \\nout\\n \\nin\\n \\nthe\\n \\nglobal\\n \\njob\\n \\nmarket\\n \\nby\\n \\nobtaining\\n \\na\\n \\nmaster's\\n \\ndegree\\n \\nthat\\n \\nis\\n \\nrecognised\\n \\nand\\n \\nvalued\\n \\nby\\n \\nemployers\\n \\nand\\n \\ninstitutions\\n \\nworldwide.\\nHelps\\n \\nin\\n \\nR&D\\n \\nJobs:\\nDouble\\n \\nyour\\n \\nchances\\n \\nof\\n \\nsecuring\\n \\ncoveted\\n \\nR&D\\n \\npositions\\n \\nby\\n \\nshowcasing\\n \\nyour\\n \\nMaster's\\n \\ndegree\\n \\nfrom\\n \\nWoolf\\n \\nHigher\\n \\nEducation\\n \\nInstitution,\\n \\ndemonstrating\\n \\nyour\\n \\ndedication\\n \\nto\\n \\nadvanced\\n \\nlearning.\\nImmigration\\n \\nSupport:\\nLeverage\\n \\nthis\\n \\nMaster’s\\n \\nDegree\\n \\nto\\n \\nenhance\\n \\nyour\\n \\nchances\\n \\nof\\n \\na\\n \\nsuccessful\\n \\nimmigration\\n \\napplication.\\nWe\\n \\nare\\n \\nECTS\\n \\naccredited\\n \\n:\\nDesigned\\n \\n&\\n \\ntaught\\n \\nby\\n \\nMAANG\\n \\nexperts\\n \\nRecognised\\n \\nby\\n \\neminent\\n \\nIndustries\\n \\nacross\\n \\nthe\\n \\nglobe\", metadata={'source': 'Scaler_data.pdf', 'page': 3})]\n"
     ]
    }
   ],
   "source": [
    "query=\"What is Neovarsity\"\n",
    "response=db.similarity_search(query=query)\n",
    "print(response)"
   ]
  },
  {
   "cell_type": "code",
   "execution_count": 158,
   "metadata": {},
   "outputs": [],
   "source": [
    "prompt=ChatPromptTemplate.from_template(\n",
    "\"\"\"\n",
    "Answer the questions based on the provided context only.\n",
    "Please provide the most accurate response based on the question\n",
    "<context>\n",
    "{context}\n",
    "<context>\n",
    "Questions:{input}\n",
    "\n",
    "\"\"\"\n",
    ")"
   ]
  },
  {
   "cell_type": "code",
   "execution_count": 159,
   "metadata": {},
   "outputs": [],
   "source": [
    "from langchain.chains.combine_documents import create_stuff_documents_chain"
   ]
  },
  {
   "cell_type": "code",
   "execution_count": 160,
   "metadata": {},
   "outputs": [],
   "source": [
    "llm = ChatGroq(groq_api_key=groq_api, model_name='Llama3-8b-8192')"
   ]
  },
  {
   "cell_type": "code",
   "execution_count": 161,
   "metadata": {},
   "outputs": [],
   "source": [
    "document_chain=create_stuff_documents_chain(llm,prompt)"
   ]
  },
  {
   "cell_type": "code",
   "execution_count": 162,
   "metadata": {},
   "outputs": [
    {
     "data": {
      "text/plain": [
       "VectorStoreRetriever(tags=['FAISS', 'AI21Embeddings'], vectorstore=<langchain_community.vectorstores.faiss.FAISS object at 0x000002010342E060>)"
      ]
     },
     "execution_count": 162,
     "metadata": {},
     "output_type": "execute_result"
    }
   ],
   "source": [
    "retreiver=db.as_retriever()\n",
    "retreiver"
   ]
  },
  {
   "cell_type": "code",
   "execution_count": 163,
   "metadata": {},
   "outputs": [],
   "source": [
    "retreival_chain=create_retrieval_chain(retreiver,document_chain)\n"
   ]
  },
  {
   "cell_type": "code",
   "execution_count": 164,
   "metadata": {},
   "outputs": [
    {
     "name": "stdout",
     "output_type": "stream",
     "text": [
      "The founders of Scaler are:\n",
      "\n",
      "1. Anshuman Singh\n",
      "2. Abhimanyu Saxena\n"
     ]
    }
   ],
   "source": [
    "response=retreival_chain.invoke({'input': \"Can you tell me about founders of Scaler\"})\n",
    "\n",
    "print(response[\"answer\"])"
   ]
  },
  {
   "cell_type": "code",
   "execution_count": 165,
   "metadata": {},
   "outputs": [
    {
     "name": "stdout",
     "output_type": "stream",
     "text": [
      "According to the context, Scaler offers the following programs:\n",
      "\n",
      "1. Scaler Data Science and Machine Learning (DSML)\n",
      "2. Scaler Academy Course\n",
      "3. Scaler Neovarsity\n",
      "4. Scaler Devops\n"
     ]
    }
   ],
   "source": [
    "response=retreival_chain.invoke({'input': \"What courses do Scaler offer??\"})\n",
    "\n",
    "print(response[\"answer\"])"
   ]
  },
  {
   "cell_type": "code",
   "execution_count": 167,
   "metadata": {},
   "outputs": [
    {
     "name": "stdout",
     "output_type": "stream",
     "text": [
      "Based on the provided context, here are the answers to your questions about DSML (Data Science and Machine Learning):\n",
      "\n",
      "1. Who should take this Data Science course?\n",
      "\n",
      "This Data Science course is designed for everyone, even if you have no coding experience. We offer a Beginner module that covers the basics of coding to get you started.\n",
      "\n",
      "2. Why is Scaler's Data Science program considered one of the best data science programs offered by Scaler?\n",
      "\n",
      "Scaler's Data Science program is considered one of the best because it is curated to help you kick-start your career in Data Science and Machine Learning. We'll make you industry-ready through a rigorous curriculum taught by industry veterans who'll mentor you as you headway towards growth.\n",
      "\n",
      "Note: There are no further questions asked about DSML in the provided context. If you have any additional questions or would like more information, please feel free to ask!\n"
     ]
    }
   ],
   "source": [
    "response=retreival_chain.invoke({'input': \"Can you tell me about DSML?\"})\n",
    "\n",
    "print(response[\"answer\"])"
   ]
  },
  {
   "cell_type": "code",
   "execution_count": 168,
   "metadata": {},
   "outputs": [
    {
     "name": "stdout",
     "output_type": "stream",
     "text": [
      "According to the provided context, Neovarsity is:\n",
      "\n",
      "\"Degree that Prioritises Skills: Neovarsity is tailored to hone your skill set by harnessing the Scaler curriculum that stands as a benchmark in the industry.\"\n",
      "\n",
      "In summary, Neovarsity is a degree program that focuses on developing skills, built upon the Scaler curriculum, and is designed to help learners achieve recognition for their skills.\n"
     ]
    }
   ],
   "source": [
    "response=retreival_chain.invoke({'input': \"What is Neovarsity\"})\n",
    "\n",
    "print(response[\"answer\"])"
   ]
  },
  {
   "cell_type": "code",
   "execution_count": 169,
   "metadata": {},
   "outputs": [
    {
     "name": "stdout",
     "output_type": "stream",
     "text": [
      "According to the provided context, Neovarsity offers two specializations:\n",
      "\n",
      "1. Master's in Computer Science: Specialization in Software Engineering.\n",
      "2. Master's in Computer Science: Specialization in AI and Machine Learning.\n"
     ]
    }
   ],
   "source": [
    "response=retreival_chain.invoke({'input': \"What are the specializations that Neaovarsity provides\"})\n",
    "\n",
    "print(response[\"answer\"])"
   ]
  },
  {
   "cell_type": "code",
   "execution_count": 170,
   "metadata": {},
   "outputs": [
    {
     "name": "stdout",
     "output_type": "stream",
     "text": [
      "Yes, there is Placement Support.\n"
     ]
    }
   ],
   "source": [
    "response=retreival_chain.invoke({'input': \"Is there a Placement Support?\"})\n",
    "\n",
    "print(response[\"answer\"])"
   ]
  },
  {
   "cell_type": "code",
   "execution_count": 173,
   "metadata": {},
   "outputs": [
    {
     "name": "stdout",
     "output_type": "stream",
     "text": [
      "According to the context, the course spans 18 months, which has Scaler Program as the first part, and then has an extension of Neovarsity with electives.\n"
     ]
    }
   ],
   "source": [
    "response=retreival_chain.invoke({'input': \"How long does a Neovarsity course last?\"})\n",
    "\n",
    "print(response[\"answer\"])"
   ]
  },
  {
   "cell_type": "code",
   "execution_count": null,
   "metadata": {},
   "outputs": [],
   "source": []
  }
 ],
 "metadata": {
  "kernelspec": {
   "display_name": "Python 3",
   "language": "python",
   "name": "python3"
  },
  "language_info": {
   "codemirror_mode": {
    "name": "ipython",
    "version": 3
   },
   "file_extension": ".py",
   "mimetype": "text/x-python",
   "name": "python",
   "nbconvert_exporter": "python",
   "pygments_lexer": "ipython3",
   "version": "3.12.1"
  }
 },
 "nbformat": 4,
 "nbformat_minor": 2
}
